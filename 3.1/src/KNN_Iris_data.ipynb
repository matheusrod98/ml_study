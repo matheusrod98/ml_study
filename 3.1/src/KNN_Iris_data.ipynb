{
 "cells": [
  {
   "cell_type": "code",
   "execution_count": 11,
   "id": "b005bbbd",
   "metadata": {},
   "outputs": [],
   "source": [
    "import pandas as pd\n",
    "from sklearn.neighbors import KNeighborsClassifier"
   ]
  },
  {
   "cell_type": "code",
   "execution_count": 2,
   "id": "e776b885",
   "metadata": {},
   "outputs": [],
   "source": [
    "df = pd.read_csv ('../data/Iris_Data.csv')"
   ]
  },
  {
   "cell_type": "code",
   "execution_count": null,
   "id": "cce882bb",
   "metadata": {},
   "outputs": [],
   "source": [
    "# We need to split our database into to two pieces.\n",
    "# One of them will be our training set, the other one, our test set.\n",
    "# We usually split into a range from 67% to 80%. Here,we're going to use 50 samples to test and 100 to training."
   ]
  },
  {
   "cell_type": "code",
   "execution_count": 8,
   "id": "f2ff3a51",
   "metadata": {},
   "outputs": [],
   "source": [
    "# Here we going to shuffle the database.\n",
    "# We choose to keep the random state at a fixed value to always have the same shuffling result.\n",
    "shuffled_df = df.sample (frac = 1, random_state = 12345)"
   ]
  },
  {
   "cell_type": "code",
   "execution_count": 9,
   "id": "37f3511d",
   "metadata": {},
   "outputs": [],
   "source": [
    "# Split the database into training set and test set.\n",
    "x_training_set = shuffled_df.iloc [:100, :-1].values\n",
    "y_training_set = shuffled_df.iloc [:100, -1].values\n",
    "\n",
    "x_test_set = shuffled_df.iloc [100:, :-1].values\n",
    "y_test_set = shuffled_df.iloc [100:, -1].values"
   ]
  },
  {
   "cell_type": "code",
   "execution_count": 13,
   "id": "a0f2ed93",
   "metadata": {},
   "outputs": [],
   "source": [
    "# Creating the classifier.\n",
    "classifier = KNeighborsClassifier (n_neighbors = 10)\n",
    "classifier = classifier.fit (x_training_set, y_training_set)\n",
    "\n",
    "y_answer_training = classifier.predict (x_training_set)\n",
    "y_answer_test = classifier.predict (x_test_set)"
   ]
  },
  {
   "cell_type": "code",
   "execution_count": 23,
   "id": "67c4603d",
   "metadata": {},
   "outputs": [
    {
     "name": "stdout",
     "output_type": "stream",
     "text": [
      "Number of examples: 50\n",
      "Correct answers: 45\n",
      "Incorrect answers: 5\n",
      "Accuracy: 90.0%\n"
     ]
    }
   ],
   "source": [
    "# Performance analysis.\n",
    "print (\"Performance with the test set.\")\n",
    "examples = len (y_test_set)\n",
    "correct_answers = sum (y_answer_test == y_test_set)\n",
    "incorrect_answers = sum (y_answer_test != y_test_set)\n",
    "accuracy = (correct_answers / examples) * 100\n",
    "\n",
    "print (f'Number of examples: {examples}')\n",
    "print (f'Correct answers: {correct_answers}')\n",
    "print (f'Incorrect answers: {incorrect_answers}')\n",
    "print (f'Accuracy: {accuracy}%')"
   ]
  },
  {
   "cell_type": "code",
   "execution_count": 24,
   "id": "8a2ac78d",
   "metadata": {},
   "outputs": [
    {
     "name": "stdout",
     "output_type": "stream",
     "text": [
      "Performance with the training set.\n",
      "Number of examples: 100\n",
      "Correct answers: 97\n",
      "Incorrect answers: 3\n",
      "Accuracy: 97.0%\n"
     ]
    }
   ],
   "source": [
    "print (\"Performance with the training set.\")\n",
    "examples = len (y_training_set)\n",
    "correct_answers = sum (y_answer_training == y_training_set)\n",
    "incorrect_answers = sum (y_answer_training != y_training_set)\n",
    "accuracy = (correct_answers / examples) * 100\n",
    "\n",
    "print (f'Number of examples: {examples}')\n",
    "print (f'Correct answers: {correct_answers}')\n",
    "print (f'Incorrect answers: {incorrect_answers}')\n",
    "print (f'Accuracy: {accuracy}%')\n"
   ]
  },
  {
   "cell_type": "code",
   "execution_count": 26,
   "id": "0ecc7ee4",
   "metadata": {},
   "outputs": [
    {
     "name": "stdout",
     "output_type": "stream",
     "text": [
      "K: 1\tAccuracy with the training set: 100.0\tAccuracy with the test set: 94.0\n",
      "K: 2\tAccuracy with the training set: 97.0\tAccuracy with the test set: 90.0\n",
      "K: 3\tAccuracy with the training set: 99.0\tAccuracy with the test set: 96.0\n",
      "K: 4\tAccuracy with the training set: 97.0\tAccuracy with the test set: 96.0\n",
      "K: 5\tAccuracy with the training set: 97.0\tAccuracy with the test set: 96.0\n",
      "K: 6\tAccuracy with the training set: 97.0\tAccuracy with the test set: 90.0\n",
      "K: 7\tAccuracy with the training set: 97.0\tAccuracy with the test set: 92.0\n",
      "K: 8\tAccuracy with the training set: 97.0\tAccuracy with the test set: 90.0\n",
      "K: 9\tAccuracy with the training set: 98.0\tAccuracy with the test set: 90.0\n",
      "K: 10\tAccuracy with the training set: 97.0\tAccuracy with the test set: 90.0\n",
      "K: 11\tAccuracy with the training set: 97.0\tAccuracy with the test set: 90.0\n",
      "K: 12\tAccuracy with the training set: 96.0\tAccuracy with the test set: 90.0\n",
      "K: 13\tAccuracy with the training set: 96.0\tAccuracy with the test set: 90.0\n",
      "K: 14\tAccuracy with the training set: 96.0\tAccuracy with the test set: 88.0\n"
     ]
    }
   ],
   "source": [
    "# Determining the best K.\n",
    "\n",
    "for k in range (1, 15):\n",
    "    classifier = KNeighborsClassifier (n_neighbors = k)\n",
    "    classifier = classifier.fit (x_training_set, y_training_set)\n",
    "\n",
    "    y_answer_training = classifier.predict (x_training_set)\n",
    "    y_answer_test = classifier.predict (x_test_set)\n",
    "    \n",
    "    examples_training = len (y_training_set)\n",
    "    correct_answers_training = sum (y_answer_training == y_training_set)\n",
    "    incorrect_answers_training = sum (y_answer_training != y_training_set)\n",
    "    accuracy_training = (correct_answers_training / examples_training) * 100\n",
    "    \n",
    "    examples_test = len (y_test_set)\n",
    "    correct_answers_test = sum (y_answer_test == y_test_set)\n",
    "    incorrect_answers_test = sum (y_answer_test != y_test_set)\n",
    "    accuracy_test = (correct_answers_test / examples_test) * 100\n",
    "    \n",
    "    print (f'K: {k}\\tAccuracy with the training set: {accuracy_training}\\tAccuracy with the test set: {accuracy_test}')\n"
   ]
  }
 ],
 "metadata": {
  "kernelspec": {
   "display_name": "Python 3 (ipykernel)",
   "language": "python",
   "name": "python3"
  },
  "language_info": {
   "codemirror_mode": {
    "name": "ipython",
    "version": 3
   },
   "file_extension": ".py",
   "mimetype": "text/x-python",
   "name": "python",
   "nbconvert_exporter": "python",
   "pygments_lexer": "ipython3",
   "version": "3.8.10"
  }
 },
 "nbformat": 4,
 "nbformat_minor": 5
}
